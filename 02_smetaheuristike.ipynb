{
 "cells": [
  {
   "cell_type": "markdown",
   "metadata": {},
   "source": [
    "# S-metaheuristike"
   ]
  },
  {
   "cell_type": "code",
   "execution_count": 33,
   "metadata": {},
   "outputs": [],
   "source": [
    "import random\n",
    "from copy import deepcopy\n"
   ]
  },
  {
   "cell_type": "markdown",
   "metadata": {},
   "source": [
    "## Pomoćne funkcije"
   ]
  },
  {
   "cell_type": "code",
   "execution_count": 34,
   "metadata": {},
   "outputs": [],
   "source": [
    "def is_feasibel(solution):\n",
    "    return any(solution)\n"
   ]
  },
  {
   "cell_type": "markdown",
   "metadata": {},
   "source": [
    "## Inicijalizacija resenja"
   ]
  },
  {
   "cell_type": "markdown",
   "metadata": {},
   "source": [
    "Jedno rešenje možemo predstaviti na dva načina:\n",
    "- Kao skup pozicija na kojima se u rešneju nalazi jedinica.\n",
    "- Kao niz logičkih vrednosti čija je dužina jednaka broju resursa i gde logičke vrednosti predstavljju da li je resurs u upotrebi ili niej.\n",
    "\n",
    "U ovom zadatku koristimo drugu reprezentaciju\n"
   ]
  },
  {
   "cell_type": "code",
   "execution_count": 35,
   "metadata": {},
   "outputs": [],
   "source": [
    "\n",
    "def initialize(num_resources):\n",
    "\n",
    "    # Generišemo jedno nasumično rešenje\n",
    "    solution = [random.random() < 0.25 for _ in range(num_resources)]\n",
    "\n",
    "    # Pravimo nasumičnu malu izmenu ako generisano rešenje nije validno\n",
    "    if not is_feasibel(solution):\n",
    "        random_resourse = random.randrange(num_resources)\n",
    "        solution[random_resourse] = True\n",
    "\n",
    "    return solution\n"
   ]
  },
  {
   "cell_type": "markdown",
   "metadata": {},
   "source": [
    "Funckiji koju računa vrednost trenutgno rešenja treba da prosledimo matricu sa cenama za upotrenu svakog resursa za svakog korisnika i niz s cenama za upotrebu svkog od resursa."
   ]
  },
  {
   "cell_type": "markdown",
   "metadata": {},
   "source": [
    "## Funkcija cilja"
   ]
  },
  {
   "cell_type": "code",
   "execution_count": 36,
   "metadata": {},
   "outputs": [],
   "source": [
    "# cost.shape = (broj_korisnika, broj_resursa)\n",
    "# fixes_cost.shape = (num_resources,)\n",
    "def calc_solution_value(solution, cost_per_user, cost_per_resource):\n",
    "\n",
    "    value = 0\n",
    "\n",
    "    # Za svakog korisnika racunamo najjeftiniji resur u upotrebi\n",
    "    # Minimalne cene sabiramo sa konacnim rezultatom\n",
    "    for user_id, cost_for_user in enumerate(cost_per_user):\n",
    "\n",
    "        min_cost_for_user = float('inf')\n",
    "\n",
    "        for resource_id, resource_used in enumerate(solution):\n",
    "\n",
    "            if resource_used is True and cost_for_user[resource_id] < min_cost_for_user:\n",
    "                min_cost_for_user = cost_for_user[resource_id]\n",
    "\n",
    "        value += min_cost_for_user\n",
    "\n",
    "    # Cenu svakog resursa u upotrebi sabiramo sa konacnim rezultatom \n",
    "    for resource_id, resource_used in enumerate(solution):\n",
    "        if resource_used:\n",
    "            value += cost_per_resource[resource_id]\n",
    "\n",
    "    return value\n"
   ]
  },
  {
   "cell_type": "code",
   "execution_count": 37,
   "metadata": {},
   "outputs": [],
   "source": [
    "def small_change(solution):\n",
    "\n",
    "    num_resources = len(solution)\n",
    "    chosen_resource = random.randrange(0, num_resources)\n",
    "    solution[chosen_resource] = not solution[chosen_resource]\n",
    "\n",
    "    if not is_feasibel(solution):\n",
    "        solution[chosen_resource] = not solution[chosen_resource]\n",
    "        return -1\n",
    "    else:\n",
    "        return chosen_resource\n"
   ]
  },
  {
   "cell_type": "code",
   "execution_count": 38,
   "metadata": {},
   "outputs": [],
   "source": [
    "def read_instance(file_path):\n",
    "    with open(file_path, 'r') as f:\n",
    "        num_users, num_resources = [int(x) for x in f.readline().split()]\n",
    "        cost = [[int(x) for x in f.readline().split()]\n",
    "                for i in range(num_users)]\n",
    "        fixed_cost = [int(x) for x in f.readline().split()]\n",
    "        return cost, fixed_cost\n"
   ]
  },
  {
   "cell_type": "markdown",
   "metadata": {},
   "source": [
    "## Lokalna pretraga"
   ]
  },
  {
   "cell_type": "code",
   "execution_count": 39,
   "metadata": {},
   "outputs": [],
   "source": [
    "def local_serach(max_iters, costs_per_user, cost_per_resource):\n",
    "\n",
    "    num_resources = len(cost_per_resource)\n",
    "\n",
    "    solution = initialize(num_resources)\n",
    "    curr_value = calc_solution_value(solution, costs_per_user, cost_per_resource)\n",
    "\n",
    "    for i in range(max_iters):\n",
    "\n",
    "        resource_inverted = small_change(solution)\n",
    "\n",
    "        if resource_inverted < 0:\n",
    "            continue\n",
    "\n",
    "        new_value = calc_solution_value(solution, costs_per_user, cost_per_resource)\n",
    "\n",
    "        if new_value < curr_value:\n",
    "            curr_value = new_value\n",
    "        else:\n",
    "            solution[resource_inverted] = not solution[resource_inverted]\n",
    "\n",
    "    return solution, curr_value\n"
   ]
  },
  {
   "cell_type": "markdown",
   "metadata": {},
   "source": [
    "### Primer upotrebe"
   ]
  },
  {
   "cell_type": "code",
   "execution_count": 40,
   "metadata": {},
   "outputs": [
    {
     "data": {
      "text/plain": [
       "([False, True, True], 41)"
      ]
     },
     "execution_count": 40,
     "metadata": {},
     "output_type": "execute_result"
    }
   ],
   "source": [
    "cost, fixed_cost = read_instance('data/uflp1.txt')\n",
    "local_serach(100, cost, fixed_cost)\n"
   ]
  },
  {
   "cell_type": "code",
   "execution_count": 41,
   "metadata": {},
   "outputs": [
    {
     "data": {
      "text/plain": [
       "([True, False, False], 34)"
      ]
     },
     "execution_count": 41,
     "metadata": {},
     "output_type": "execute_result"
    }
   ],
   "source": [
    "local_serach(100, cost, fixed_cost)"
   ]
  },
  {
   "cell_type": "markdown",
   "metadata": {},
   "source": [
    "U ovom primeru, dolazimo do dva globalna minimuma:\n",
    "1. Koristimo samo prvi resurs i dobijamo ukupnu vrednost 34\n",
    "2. Koristimo drugi i treći resur i dobijamo ukupnu vrednost 41\n",
    "Prvi lokalni minimum je ujedno i globani minimum."
   ]
  },
  {
   "cell_type": "markdown",
   "metadata": {},
   "source": [
    "## Simulirano kaljenje"
   ]
  },
  {
   "cell_type": "markdown",
   "metadata": {},
   "source": [
    "Algoritam simuliranog kaljenja predstavlja modifikaciju algoritma lokalne pretrage. Razliku je se u tome što u slučaju kada smo naišli na suseda koji nema manju vrednost funkcije cilja, sa zadatom verovatnoćom ipak prelazimo na tog suseda. Verovatnoća prelaska na lošijeg suseda treba da bude takva da što je više iteracija prošlo, to je manja verovatnoća da pređemo na njega. Ovim je omogućeno da u ranim iteracijama pretrage imamo verovatnoću da skočimo u neku okolinu koja će nas dovesti do boljeg lokalnog minimuma."
   ]
  },
  {
   "cell_type": "code",
   "execution_count": 42,
   "metadata": {},
   "outputs": [],
   "source": [
    "def simulated_annealing(max_iters, costs_per_user, cost_per_resource):\n",
    "\n",
    "    num_resources = len(cost_per_resource)\n",
    "    \n",
    "    solution = initialize(num_resources)\n",
    "    curr_value = calc_solution_value(solution, costs_per_user, cost_per_resource)\n",
    "\n",
    "    for i in range(1, max_iters):\n",
    "        \n",
    "        inverted_resource = small_change(solution)\n",
    "        if inverted_resource < 0:\n",
    "            continue\n",
    "\n",
    "        new_value = calc_solution_value(solution, costs_per_user, cost_per_resource)\n",
    "\n",
    "        if new_value < curr_value:\n",
    "            curr_value = new_value\n",
    "        else:\n",
    "            p = 1.0 / i ** 0.5\n",
    "\n",
    "            q = random.uniform(0, 1)\n",
    "\n",
    "            if q < p:  # Prihvatamo losije resenje\n",
    "                curr_value = new_value\n",
    "            else:\n",
    "                solution[inverted_resource] = not solution[inverted_resource]\n",
    "\n",
    "    return solution, curr_value\n"
   ]
  },
  {
   "cell_type": "markdown",
   "metadata": {},
   "source": [
    "### Primer upotrebe"
   ]
  },
  {
   "cell_type": "code",
   "execution_count": 43,
   "metadata": {},
   "outputs": [],
   "source": [
    "cost, fixed_cost = read_instance('data/uflp1.txt')"
   ]
  },
  {
   "cell_type": "code",
   "execution_count": 44,
   "metadata": {},
   "outputs": [
    {
     "data": {
      "text/plain": [
       "([True, False, False], 34)"
      ]
     },
     "execution_count": 44,
     "metadata": {},
     "output_type": "execute_result"
    }
   ],
   "source": [
    "simulated_annealing(100, cost, fixed_cost)"
   ]
  },
  {
   "cell_type": "code",
   "execution_count": 45,
   "metadata": {},
   "outputs": [
    {
     "data": {
      "text/plain": [
       "([True, False, False], 34)"
      ]
     },
     "execution_count": 45,
     "metadata": {},
     "output_type": "execute_result"
    }
   ],
   "source": [
    "simulated_annealing(100, cost, fixed_cost)"
   ]
  },
  {
   "cell_type": "code",
   "execution_count": 46,
   "metadata": {},
   "outputs": [
    {
     "data": {
      "text/plain": [
       "([True, False, False], 34)"
      ]
     },
     "execution_count": 46,
     "metadata": {},
     "output_type": "execute_result"
    }
   ],
   "source": [
    "simulated_annealing(100, cost, fixed_cost)"
   ]
  },
  {
   "cell_type": "code",
   "execution_count": 47,
   "metadata": {},
   "outputs": [
    {
     "data": {
      "text/plain": [
       "([True, False, False], 34)"
      ]
     },
     "execution_count": 47,
     "metadata": {},
     "output_type": "execute_result"
    }
   ],
   "source": [
    "simulated_annealing(100, cost, fixed_cost)"
   ]
  },
  {
   "cell_type": "markdown",
   "metadata": {},
   "source": [
    "Vidimo da kod simuliranog kaljenja možemo da dođemo do rešenja koji ne predstavljaju lokalne minimume. Ova pojava se dešava zbog nedeterminizma koji smo uveli."
   ]
  },
  {
   "cell_type": "code",
   "execution_count": 80,
   "metadata": {},
   "outputs": [],
   "source": [
    "def shaking(solution, k):\n",
    "\n",
    "    num_resources = len(solution)\n",
    "\n",
    "    chosen_resources = random.sample(range(num_resources), k)\n",
    "    for resource in chosen_resources:\n",
    "        solution[resource] = not solution[resource]\n",
    "    \n",
    "    if not is_feasibel(solution):\n",
    "        random_resource = random.randrange(0, num_resources)\n",
    "        solution[random_resource] = not solution[random_resource]\n",
    "        chosen_resources = [random_resource]\n",
    "\n",
    "    return chosen_resources"
   ]
  },
  {
   "cell_type": "code",
   "execution_count": 81,
   "metadata": {},
   "outputs": [],
   "source": [
    "def vns(max_iters, k_max, costs_per_user, move_prob, cost_per_resource):\n",
    "\n",
    "    num_resources = len(cost_per_resource)\n",
    "\n",
    "    solution = initialize(num_resources)\n",
    "    curr_value = calc_solution_value(solution, costs_per_user, cost_per_resource)\n",
    "\n",
    "    for i in range(max_iters):\n",
    "        for k in range(1, k_max):\n",
    "\n",
    "            inverted_resources = shaking(solution, k)\n",
    "            # new_solution = local_serach(solution)\n",
    "            new_value = calc_solution_value(solution, costs_per_user, cost_per_resource)\n",
    "\n",
    "            if new_value < curr_value or (new_value == curr_value and move_prob):\n",
    "                curr_value = new_value\n",
    "                break\n",
    "            else:\n",
    "                for resource in inverted_resources:\n",
    "                    solution[resource] = not solution[resource]\n",
    "                \n",
    "\n",
    "    return solution, curr_value\n"
   ]
  },
  {
   "cell_type": "code",
   "execution_count": 82,
   "metadata": {},
   "outputs": [],
   "source": [
    "cost, fixed_cost = read_instance('data/uflp1.txt')"
   ]
  },
  {
   "cell_type": "code",
   "execution_count": 116,
   "metadata": {},
   "outputs": [
    {
     "data": {
      "text/plain": [
       "([False, True, True], 41)"
      ]
     },
     "execution_count": 116,
     "metadata": {},
     "output_type": "execute_result"
    }
   ],
   "source": [
    "vns(max_iters=10, k_max=2, move_prob=0.5, costs_per_user=cost, cost_per_resource=fixed_cost)"
   ]
  }
 ],
 "metadata": {
  "kernelspec": {
   "display_name": "Python 3.10.6 ('venv': venv)",
   "language": "python",
   "name": "python3"
  },
  "language_info": {
   "codemirror_mode": {
    "name": "ipython",
    "version": 3
   },
   "file_extension": ".py",
   "mimetype": "text/x-python",
   "name": "python",
   "nbconvert_exporter": "python",
   "pygments_lexer": "ipython3",
   "version": "3.10.6"
  },
  "orig_nbformat": 4,
  "vscode": {
   "interpreter": {
    "hash": "346daebe031e786f2025360c204d7db065ba48dfa9f4c0b2a5d21ecaa954e18e"
   }
  }
 },
 "nbformat": 4,
 "nbformat_minor": 2
}
